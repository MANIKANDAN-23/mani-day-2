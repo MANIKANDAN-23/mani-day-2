{
 "cells": [
  {
   "cell_type": "markdown",
   "metadata": {},
   "source": [
    "# assingment 2"
   ]
  },
  {
   "cell_type": "markdown",
   "metadata": {},
   "source": [
    "question 1"
   ]
  },
  {
   "cell_type": "code",
   "execution_count": 1,
   "metadata": {},
   "outputs": [
    {
     "name": "stdout",
     "output_type": "stream",
     "text": [
      "enter the altitude3000\n",
      "down the plane into 1000 feet\n"
     ]
    }
   ],
   "source": [
    "altitude=int(input(\"enter the altitude\"))\n",
    "if altitude<=1000:\n",
    "    print(\"safe to land\")\n",
    "elif altitude<=5000:\n",
    "    print(\"down the plane into 1000 feet\")\n",
    "else:\n",
    "    print(\"turn around\")"
   ]
  },
  {
   "cell_type": "markdown",
   "metadata": {},
   "source": [
    "question 2"
   ]
  },
  {
   "cell_type": "code",
   "execution_count": null,
   "metadata": {},
   "outputs": [],
   "source": [
    "i=1\n",
    "for k in range (1,(200+1)):\n",
    "    c=0\n",
    "    for j in range(1,(i+1)):\n",
    "        if(i%j==0):\n",
    "            c=c+1\n",
    "        \n",
    "    if (c==2):\n",
    "        print(i)\n",
    "    else:"
   ]
  }
 ],
 "metadata": {
  "kernelspec": {
   "display_name": "Python 3",
   "language": "python",
   "name": "python3"
  },
  "language_info": {
   "codemirror_mode": {
    "name": "ipython",
    "version": 3
   },
   "file_extension": ".py",
   "mimetype": "text/x-python",
   "name": "python",
   "nbconvert_exporter": "python",
   "pygments_lexer": "ipython3",
   "version": "3.8.3"
  }
 },
 "nbformat": 4,
 "nbformat_minor": 4
}
